{
 "cells": [
  {
   "cell_type": "code",
   "execution_count": 1,
   "id": "c0834c65-d309-4450-9bb1-fe7bc6a47203",
   "metadata": {},
   "outputs": [],
   "source": [
    "import torch"
   ]
  },
  {
   "cell_type": "code",
   "execution_count": 4,
   "id": "1472a023-0c9b-47ae-9cbb-56e07fcc82d4",
   "metadata": {},
   "outputs": [
    {
     "name": "stdout",
     "output_type": "stream",
     "text": [
      "Net(\n",
      "  (conv1): Conv2d(1, 6, kernel_size=(5, 5), stride=(1, 1))\n",
      "  (conv2): Conv2d(6, 16, kernel_size=(5, 5), stride=(1, 1))\n",
      "  (fc1): Linear(in_features=400, out_features=120, bias=True)\n",
      "  (fc2): Linear(in_features=120, out_features=84, bias=True)\n",
      "  (fc3): Linear(in_features=84, out_features=10, bias=True)\n",
      ")\n"
     ]
    }
   ],
   "source": [
    "import torch\n",
    "import torch.nn as nn\n",
    "import torch.nn.functional as F\n",
    "\n",
    "class Net(nn.Module):\n",
    "\n",
    "    def __init__(self):\n",
    "        super(Net, self).__init__()\n",
    "        # nn.Conv2d输入为inputchannel，outchannel，kenrnel size\n",
    "        # 输入图像是单通道，conv1 kenrnel size=5*5，输出通道 6\n",
    "        self.conv1 = nn.Conv2d(1, 6, 5)\n",
    "        # conv2 kernel size=5*5, 输出通道 16\n",
    "        self.conv2 = nn.Conv2d(6, 16, 5)\n",
    "        # 全连接层 展平为一维数组 16 * 5 * 5为数组长度，输出为大小 120\n",
    "        self.fc1 = nn.Linear(16*5*5, 120)\n",
    "        # 全连接层 输入为大小120，输出为 84\n",
    "        self.fc2 = nn.Linear(120, 84)\n",
    "        # 全连接层 输入为84，输出为 10\n",
    "        self.fc3 = nn.Linear(84, 10)\n",
    "\n",
    "    def forward(self, x):\n",
    "        # max-pooling 采用一个 (2,2) 的滑动窗口\n",
    "        x = F.max_pool2d(F.relu(self.conv1(x)), (2, 2))\n",
    "        # 核(kernel)大小是方形的话，可仅定义一个数字，如 (2,2) 用 2 即可\n",
    "        # x = F.max_pool2d(F.relu(self.conv2(x)), (2, 2))\n",
    "        x = F.max_pool2d(F.relu(self.conv2(x)), 2)\n",
    "        \n",
    "        # 和 numpy reshape 一样 所有特征展平，然后传给下面的只能接收一维数据的层，比如全连接层。Flatten()层就是这个作用 \n",
    "        # ***x.view(-1, x.size()[1:].numel())等价于x.view(-1, self.num_flat_features(x))***\n",
    "        \n",
    "        x = x.view(-1, self.num_flat_features(x))\n",
    "        x = F.relu(self.fc1(x))\n",
    "        x = F.relu(self.fc2(x))\n",
    "        x = self.fc3(x)\n",
    "        return x\n",
    "\n",
    "    def num_flat_features(self, x):\n",
    "        #所有特征展平，然后传给下面的只能接收一维数据的层，比如全连接层。Flatten()层就是这个作用\n",
    "        # 除了 batch 维度外的所有维度\n",
    "        size = x.size()[1:]\n",
    "        num_features = 1\n",
    "        for s in size:\n",
    "            num_features *= s\n",
    "        return num_features\n",
    "\n",
    "net = Net()\n",
    "print(net)"
   ]
  },
  {
   "cell_type": "code",
   "execution_count": 8,
   "id": "21608a95-109b-4167-b20c-751884450eaa",
   "metadata": {},
   "outputs": [
    {
     "name": "stdout",
     "output_type": "stream",
     "text": [
      "参数数量:  10\n",
      "Parameter containing:\n",
      "tensor([[[[-0.1650,  0.1949, -0.1244,  0.0686,  0.1221],\n",
      "          [ 0.0093, -0.1486, -0.1553,  0.1525, -0.1675],\n",
      "          [-0.1151, -0.0576, -0.0124,  0.1874,  0.0760],\n",
      "          [-0.1022,  0.1734, -0.1531,  0.0133,  0.0405],\n",
      "          [ 0.0207, -0.1973,  0.0833, -0.1174, -0.1939]]],\n",
      "\n",
      "\n",
      "        [[[-0.1455,  0.1274,  0.1812,  0.1520,  0.0449],\n",
      "          [-0.0105, -0.0148, -0.0550,  0.0099,  0.1938],\n",
      "          [ 0.1175,  0.1397,  0.0913, -0.1038,  0.0786],\n",
      "          [-0.1386,  0.0457, -0.1697,  0.0552,  0.1708],\n",
      "          [ 0.0672, -0.1895,  0.0005, -0.1695,  0.1629]]],\n",
      "\n",
      "\n",
      "        [[[ 0.1538,  0.1051,  0.1947, -0.0328, -0.1808],\n",
      "          [-0.0382, -0.0183, -0.1144, -0.0076,  0.0036],\n",
      "          [-0.1907,  0.0151,  0.0077,  0.0553, -0.1308],\n",
      "          [-0.1481,  0.0398,  0.1397, -0.0799,  0.0645],\n",
      "          [-0.1865, -0.0695, -0.0947,  0.1035,  0.1078]]],\n",
      "\n",
      "\n",
      "        [[[ 0.0383, -0.1356, -0.1634, -0.1589, -0.0153],\n",
      "          [ 0.1961, -0.0670, -0.1183,  0.0770,  0.1713],\n",
      "          [ 0.0053,  0.1781, -0.0790, -0.0261, -0.0029],\n",
      "          [-0.1952, -0.1032,  0.0022,  0.1951,  0.0363],\n",
      "          [ 0.0352,  0.0471,  0.0837, -0.0400, -0.0399]]],\n",
      "\n",
      "\n",
      "        [[[-0.0180, -0.1894,  0.1125,  0.0544, -0.0601],\n",
      "          [-0.0861,  0.0120,  0.0497, -0.0156,  0.0660],\n",
      "          [ 0.0072,  0.1269, -0.0498, -0.1996, -0.0237],\n",
      "          [-0.1675, -0.1036, -0.0190, -0.0527, -0.1572],\n",
      "          [-0.1730, -0.1097, -0.0339, -0.0267, -0.0514]]],\n",
      "\n",
      "\n",
      "        [[[-0.1297,  0.1318,  0.0055, -0.0236, -0.0414],\n",
      "          [ 0.1614,  0.0872,  0.0467,  0.0956,  0.1176],\n",
      "          [ 0.0619,  0.1265, -0.0651,  0.0446, -0.0428],\n",
      "          [-0.1767, -0.1312, -0.1208,  0.1224,  0.1353],\n",
      "          [-0.0238, -0.0523, -0.0395,  0.1279,  0.1434]]]], requires_grad=True)\n",
      "第一个参数大小:  torch.Size([6, 1, 5, 5])\n"
     ]
    }
   ],
   "source": [
    "params = list(net.parameters())\n",
    "#print('参数: ', params)\n",
    "print('参数数量: ', len(params))\n",
    "# conv1.weight\n",
    "print(params[0])\n",
    "\n",
    "print('第一个参数大小: ', params[0].size())"
   ]
  },
  {
   "cell_type": "code",
   "execution_count": 12,
   "id": "c4bd5539-411c-4020-a231-4c110e05b41b",
   "metadata": {},
   "outputs": [
    {
     "name": "stdout",
     "output_type": "stream",
     "text": [
      "tensor([[[[-5.4744e-02,  4.7891e-01, -3.6995e-01,  ..., -5.3438e-01,\n",
      "            1.2987e+00, -3.0009e-01],\n",
      "          [ 5.0419e-01,  3.9545e-02,  2.2824e+00,  ..., -6.0321e-01,\n",
      "           -5.6403e-01, -1.6192e-01],\n",
      "          [-2.0317e+00,  3.7382e-01,  1.0294e+00,  ...,  5.4721e-02,\n",
      "           -2.7032e-01, -1.1087e+00],\n",
      "          ...,\n",
      "          [-1.2426e-01, -1.5966e-03, -9.4551e-01,  ..., -1.3830e+00,\n",
      "           -3.7314e-01,  1.2613e+00],\n",
      "          [-1.6126e+00,  6.9614e-02,  8.5440e-01,  ...,  1.5892e+00,\n",
      "           -1.6140e-01,  1.5084e+00],\n",
      "          [ 3.1146e-01, -4.0612e-02, -3.0541e-01,  ..., -1.2965e+00,\n",
      "           -1.5964e+00,  3.4375e-01]]]])\n",
      "tensor([[-0.0382, -0.2022,  0.1452,  0.0151,  0.1063, -0.0465, -0.0887,  0.0182,\n",
      "         -0.0362,  0.0888]], grad_fn=<AddmmBackward0>)\n"
     ]
    }
   ],
   "source": [
    "# 随机定义一个变量输入网络\n",
    "input = torch.randn(1, 1, 32, 32)\n",
    "print(input)\n",
    "out = net(input)\n",
    "print(out)"
   ]
  },
  {
   "cell_type": "code",
   "execution_count": 13,
   "id": "c7961e86-eb07-4ed9-8857-e5310d70f1b0",
   "metadata": {},
   "outputs": [
    {
     "name": "stdout",
     "output_type": "stream",
     "text": [
      "tensor([[-0.0382, -0.2022,  0.1452,  0.0151,  0.1063, -0.0465, -0.0887,  0.0182,\n",
      "         -0.0362,  0.0888]], grad_fn=<AddmmBackward0>)\n"
     ]
    }
   ],
   "source": [
    "#接着反向传播需要先清空梯度缓存，并反向传播随机梯度\n",
    "net.zero_grad()\n",
    "out.backward(torch.randn(1, 10))\n",
    "print(out)"
   ]
  },
  {
   "cell_type": "code",
   "execution_count": 15,
   "id": "06ee8c6d-e123-4030-8f22-88403c151409",
   "metadata": {},
   "outputs": [
    {
     "name": "stdout",
     "output_type": "stream",
     "text": [
      "tensor(0.7290, grad_fn=<MseLossBackward0>)\n"
     ]
    },
    {
     "data": {
      "text/plain": [
       "'\\ninput -> conv2d -> relu -> maxpool2d -> conv2d -> relu -> maxpool2d\\n      -> view -> linear -> relu -> linear -> relu -> linear\\n      -> MSELoss\\n      -> loss\\n'"
      ]
     },
     "execution_count": 15,
     "metadata": {},
     "output_type": "execute_result"
    }
   ],
   "source": [
    "output = net(input)\n",
    "# 定义伪标签\n",
    "target = torch.randn(10)\n",
    "# 调整大小，使得和 output 一样的 size\n",
    "# 展平为 1 维\n",
    "target = target.view(1, -1)\n",
    "criterion = nn.MSELoss()\n",
    "\n",
    "loss = criterion(output, target)\n",
    "print(loss)\n",
    "\n",
    "\"\"\"\n",
    "input -> conv2d -> relu -> maxpool2d -> conv2d -> relu -> maxpool2d\n",
    "      -> view -> linear -> relu -> linear -> relu -> linear\n",
    "      -> MSELoss\n",
    "      -> loss\n",
    "\"\"\""
   ]
  },
  {
   "cell_type": "code",
   "execution_count": 16,
   "id": "6458305e-e961-4b62-b8fd-629b958bfa58",
   "metadata": {},
   "outputs": [
    {
     "name": "stdout",
     "output_type": "stream",
     "text": [
      "<MseLossBackward0 object at 0x000001FC4B52BD60>\n",
      "<AddmmBackward0 object at 0x000001FC4B52BBE0>\n",
      "<AccumulateGrad object at 0x000001FC51743AC0>\n"
     ]
    }
   ],
   "source": [
    "# MSELoss\n",
    "print(loss.grad_fn)\n",
    "# Linear layer\n",
    "print(loss.grad_fn.next_functions[0][0])\n",
    "# Relu\n",
    "print(loss.grad_fn.next_functions[0][0].next_functions[0][0])"
   ]
  },
  {
   "cell_type": "code",
   "execution_count": 17,
   "id": "9229966a-b04d-44ae-9a30-9e6959974e8d",
   "metadata": {},
   "outputs": [
    {
     "name": "stdout",
     "output_type": "stream",
     "text": [
      "conv1.bias.grad before backward\n",
      "tensor([0., 0., 0., 0., 0., 0.])\n",
      "conv1.bias.grad after backward\n",
      "tensor([ 0.0066,  0.0031, -0.0045,  0.0277,  0.0105, -0.0047])\n"
     ]
    }
   ],
   "source": [
    "# 反向传播\n",
    "# 清空所有参数的梯度缓存\n",
    "net.zero_grad()\n",
    "print('conv1.bias.grad before backward')\n",
    "print(net.conv1.bias.grad)\n",
    "\n",
    "loss.backward()\n",
    "\n",
    "print('conv1.bias.grad after backward')\n",
    "print(net.conv1.bias.grad)"
   ]
  },
  {
   "cell_type": "code",
   "execution_count": 20,
   "id": "cdd000fb-619f-46a3-b6ba-96b8b6ba8038",
   "metadata": {},
   "outputs": [
    {
     "name": "stdout",
     "output_type": "stream",
     "text": [
      "<generator object Module.parameters at 0x000001FC51A72EA0>\n"
     ]
    }
   ],
   "source": [
    "# 更新权重\n",
    "# 简单实现权重的更新例子\n",
    "learning_rate = 0.01\n",
    "for f in net.parameters():\n",
    "    f.data.sub_(f.grad.data * learning_rate)\n",
    "print(net.parameters())"
   ]
  },
  {
   "cell_type": "code",
   "execution_count": 21,
   "id": "c24f1bbd-4175-4bc7-bc64-0ed1a43ab272",
   "metadata": {},
   "outputs": [],
   "source": [
    "# 更新权重（正式版本）\n",
    "import torch.optim as optim\n",
    "# 创建优化器\n",
    "optimizer = optim.SGD(net.parameters(), lr=0.01)\n",
    "\n",
    "# 在训练过程中执行下列操作\n",
    "optimizer.zero_grad() # 清空梯度缓存\n",
    "output = net(input)\n",
    "loss = criterion(output, target)\n",
    "loss.backward()\n",
    "# 更新权重\n",
    "optimizer.step()"
   ]
  },
  {
   "cell_type": "code",
   "execution_count": 22,
   "id": "2790f890-c000-447f-b665-4294a4c61ef2",
   "metadata": {},
   "outputs": [
    {
     "name": "stdout",
     "output_type": "stream",
     "text": [
      "Downloading https://www.cs.toronto.edu/~kriz/cifar-10-python.tar.gz to ./data\\cifar-10-python.tar.gz\n"
     ]
    },
    {
     "data": {
      "application/vnd.jupyter.widget-view+json": {
       "model_id": "8c557a36ffb241c2bd466643ef192a0c",
       "version_major": 2,
       "version_minor": 0
      },
      "text/plain": [
       "  0%|          | 0/170498071 [00:00<?, ?it/s]"
      ]
     },
     "metadata": {},
     "output_type": "display_data"
    },
    {
     "name": "stdout",
     "output_type": "stream",
     "text": [
      "Extracting ./data\\cifar-10-python.tar.gz to ./data\n",
      "Files already downloaded and verified\n"
     ]
    }
   ],
   "source": [
    "import torch\n",
    "import torchvision\n",
    "import torchvision.transforms as transforms\n",
    "\n",
    "# 将图片数据从 [0,1] 归一化为 [-1, 1] 的取值范围\n",
    "transform = transforms.Compose(\n",
    "    [transforms.ToTensor(),\n",
    "     transforms.Normalize((0.5, 0.5, 0.5), (0.5, 0.5, 0.5))])\n",
    "\n",
    "trainset = torchvision.datasets.CIFAR10(root='./data', train=True,\n",
    "                                        download=True, transform=transform)\n",
    "trainloader = torch.utils.data.DataLoader(trainset, batch_size=4,\n",
    "                                          shuffle=True, num_workers=2)\n",
    "\n",
    "testset = torchvision.datasets.CIFAR10(root='./data', train=False,\n",
    "                                       download=True, transform=transform)\n",
    "testloader = torch.utils.data.DataLoader(testset, batch_size=4,\n",
    "                                         shuffle=False, num_workers=2)\n",
    "\n",
    "classes = ('plane', 'car', 'bird', 'cat',\n",
    "           'deer', 'dog', 'frog', 'horse', 'ship', 'truck')"
   ]
  },
  {
   "cell_type": "code",
   "execution_count": 31,
   "id": "8bfc8cc7-0469-478d-b397-dcba6202d1a5",
   "metadata": {},
   "outputs": [
    {
     "name": "stdout",
     "output_type": "stream",
     "text": [
      "<torch.utils.data.dataloader._MultiProcessingDataLoaderIter object at 0x000001FC5A959F90>\n",
      "tensor([[[[-0.3490, -0.3176, -0.2941,  ..., -0.6784, -0.7804, -0.8510],\n",
      "          [-0.3333, -0.2941, -0.2706,  ..., -0.6627, -0.7725, -0.8431],\n",
      "          [-0.3333, -0.2941, -0.2627,  ..., -0.6549, -0.7647, -0.8353],\n",
      "          ...,\n",
      "          [-0.8039, -0.8275, -0.6157,  ..., -0.7961, -0.8196, -0.8510],\n",
      "          [-0.8118, -0.8118, -0.4118,  ..., -0.8118, -0.8275, -0.8588],\n",
      "          [-0.8118, -0.6706, -0.1216,  ..., -0.8118, -0.8275, -0.8353]],\n",
      "\n",
      "         [[ 0.2941,  0.2941,  0.3255,  ...,  0.1529,  0.1137,  0.0980],\n",
      "          [ 0.3176,  0.3255,  0.3647,  ...,  0.1765,  0.1373,  0.1216],\n",
      "          [ 0.3255,  0.3333,  0.3647,  ...,  0.1843,  0.1451,  0.1216],\n",
      "          ...,\n",
      "          [-0.6549, -0.6784, -0.4196,  ..., -0.6863, -0.7098, -0.7176],\n",
      "          [-0.6784, -0.6706, -0.2000,  ..., -0.7098, -0.7255, -0.7333],\n",
      "          [-0.6784, -0.5216,  0.0745,  ..., -0.6863, -0.7020, -0.7020]],\n",
      "\n",
      "         [[ 0.7255,  0.7176,  0.7098,  ...,  0.6000,  0.5686,  0.5608],\n",
      "          [ 0.7569,  0.7569,  0.7490,  ...,  0.6314,  0.6000,  0.5922],\n",
      "          [ 0.7412,  0.7412,  0.7490,  ...,  0.6235,  0.5922,  0.5843],\n",
      "          ...,\n",
      "          [-0.6000, -0.6157, -0.3490,  ..., -0.6000, -0.6235, -0.6549],\n",
      "          [-0.6157, -0.6000, -0.0980,  ..., -0.6235, -0.6392, -0.6706],\n",
      "          [-0.6235, -0.4510,  0.1843,  ..., -0.6078, -0.6235, -0.6471]]],\n",
      "\n",
      "\n",
      "        [[[-0.1765,  0.0196,  0.0039,  ..., -0.4902, -0.5373, -0.5216],\n",
      "          [-0.0902,  0.0510, -0.0667,  ..., -0.5373, -0.5451, -0.5059],\n",
      "          [-0.1529,  0.0667, -0.0275,  ..., -0.5373, -0.5686, -0.4588],\n",
      "          ...,\n",
      "          [-0.0824, -0.2078, -0.2235,  ...,  0.2392,  0.2078,  0.2549],\n",
      "          [-0.0824, -0.2000, -0.2392,  ...,  0.2235,  0.2392,  0.1216],\n",
      "          [-0.0745, -0.1608, -0.2235,  ...,  0.1843,  0.1529,  0.1137]],\n",
      "\n",
      "         [[-0.2863, -0.0980, -0.1294,  ..., -0.5922, -0.6000, -0.5373],\n",
      "          [-0.2157, -0.0667, -0.1843,  ..., -0.6078, -0.5765, -0.5059],\n",
      "          [-0.2863, -0.0667, -0.1608,  ..., -0.6078, -0.6000, -0.4745],\n",
      "          ...,\n",
      "          [-0.2471, -0.3333, -0.3569,  ...,  0.1216,  0.1686,  0.1765],\n",
      "          [-0.2157, -0.3333, -0.3804,  ...,  0.0902,  0.1608,  0.0431],\n",
      "          [-0.2392, -0.3098, -0.3725,  ..., -0.0275,  0.0118,  0.0039]],\n",
      "\n",
      "         [[-0.3725, -0.1373, -0.0431,  ..., -0.5922, -0.6157, -0.6157],\n",
      "          [-0.3020, -0.1137, -0.1059,  ..., -0.6235, -0.6235, -0.6078],\n",
      "          [-0.3569, -0.0824, -0.0588,  ..., -0.6235, -0.6471, -0.5686],\n",
      "          ...,\n",
      "          [-0.1608, -0.2549, -0.2941,  ..., -0.1216, -0.1373, -0.1216],\n",
      "          [-0.1451, -0.2627, -0.3020,  ..., -0.0824, -0.1137, -0.1843],\n",
      "          [-0.1608, -0.2314, -0.2941,  ..., -0.0667, -0.1686, -0.1529]]],\n",
      "\n",
      "\n",
      "        [[[-0.5843, -0.6157, -0.5922,  ..., -0.6000, -0.5529, -0.5137],\n",
      "          [-0.5294, -0.5765, -0.5843,  ..., -0.6157, -0.5922, -0.5608],\n",
      "          [-0.5059, -0.5529, -0.5686,  ..., -0.5765, -0.5608, -0.5529],\n",
      "          ...,\n",
      "          [ 0.0902,  0.0431,  0.0745,  ...,  0.2549,  0.2392,  0.4980],\n",
      "          [ 0.0431,  0.0510,  0.2235,  ...,  0.0824,  0.2314,  0.4353],\n",
      "          [ 0.0824,  0.0275,  0.1843,  ...,  0.0353,  0.2235,  0.4353]],\n",
      "\n",
      "         [[-0.5373, -0.5843, -0.4980,  ..., -0.6235, -0.4667, -0.3804],\n",
      "          [-0.4275, -0.5059, -0.5137,  ..., -0.6157, -0.5686, -0.4745],\n",
      "          [-0.4353, -0.4980, -0.5059,  ..., -0.5294, -0.5059, -0.4745],\n",
      "          ...,\n",
      "          [ 0.2471,  0.1765,  0.2235,  ...,  0.3647,  0.3961,  0.4902],\n",
      "          [ 0.2627,  0.1922,  0.3412,  ...,  0.2863,  0.3882,  0.5373],\n",
      "          [ 0.2392,  0.1529,  0.2627,  ...,  0.2000,  0.3647,  0.5137]],\n",
      "\n",
      "         [[-0.4118, -0.4510, -0.4196,  ..., -0.4588, -0.3412, -0.2706],\n",
      "          [-0.3020, -0.3647, -0.3961,  ..., -0.4510, -0.4431, -0.3412],\n",
      "          [-0.3176, -0.3725, -0.3804,  ..., -0.3412, -0.3255, -0.3098],\n",
      "          ...,\n",
      "          [ 0.2471,  0.0824,  0.1529,  ...,  0.3490,  0.3569,  0.4588],\n",
      "          [ 0.1294,  0.0824,  0.2784,  ...,  0.3333,  0.3490,  0.4980],\n",
      "          [ 0.1608, -0.0118,  0.0980,  ...,  0.2235,  0.2706,  0.4275]]],\n",
      "\n",
      "\n",
      "        [[[ 0.9765,  0.9451,  0.9451,  ...,  0.9294,  0.9216,  0.9216],\n",
      "          [ 0.9451,  0.9137,  0.9137,  ...,  0.8902,  0.8902,  0.8902],\n",
      "          [ 0.9529,  0.9294,  0.9294,  ...,  0.8980,  0.8902,  0.8824],\n",
      "          ...,\n",
      "          [-0.4510, -0.4510, -0.4588,  ..., -0.4039, -0.4039, -0.4039],\n",
      "          [-0.4588, -0.4118, -0.4039,  ..., -0.4353, -0.4118, -0.3804],\n",
      "          [-0.4353, -0.4588, -0.4275,  ..., -0.4275, -0.3882, -0.3961]],\n",
      "\n",
      "         [[ 0.9451,  0.9137,  0.9137,  ...,  0.9294,  0.9216,  0.9216],\n",
      "          [ 0.9137,  0.8824,  0.8824,  ...,  0.8902,  0.8902,  0.8902],\n",
      "          [ 0.9137,  0.8902,  0.8980,  ...,  0.8980,  0.8902,  0.8824],\n",
      "          ...,\n",
      "          [-0.4275, -0.4275, -0.4353,  ..., -0.3804, -0.3804, -0.3804],\n",
      "          [-0.4353, -0.3882, -0.3804,  ..., -0.4118, -0.3882, -0.3569],\n",
      "          [-0.4118, -0.4353, -0.4039,  ..., -0.4039, -0.3647, -0.3725]],\n",
      "\n",
      "         [[ 0.9529,  0.9216,  0.9216,  ...,  0.9294,  0.9216,  0.9216],\n",
      "          [ 0.9216,  0.8902,  0.8902,  ...,  0.8902,  0.8902,  0.8902],\n",
      "          [ 0.9216,  0.9059,  0.9059,  ...,  0.8980,  0.8902,  0.8824],\n",
      "          ...,\n",
      "          [-0.2941, -0.2941, -0.3020,  ..., -0.2471, -0.2471, -0.2471],\n",
      "          [-0.3020, -0.2549, -0.2471,  ..., -0.2784, -0.2549, -0.2235],\n",
      "          [-0.2784, -0.3020, -0.2706,  ..., -0.2706, -0.2314, -0.2392]]]]) tensor([0, 4, 4, 1])\n"
     ]
    },
    {
     "data": {
      "image/png": "[encoded data removed]",
      "text/plain": [
       "<Figure size 640x480 with 1 Axes>"
      ]
     },
     "metadata": {},
     "output_type": "display_data"
    },
    {
     "name": "stdout",
     "output_type": "stream",
     "text": [
      "plane  deer  deer   car\n"
     ]
    }
   ],
   "source": [
    "import matplotlib.pyplot as plt\n",
    "import numpy as np\n",
    "\n",
    "# 展示图片的函数\n",
    "def imshow(img):\n",
    "    img = img / 2 + 0.5     # 非归一化\n",
    "    npimg = img.numpy()\n",
    "    plt.imshow(np.transpose(npimg, (1, 2, 0)))\n",
    "    plt.show()\n",
    "\n",
    "\n",
    "# 随机获取训练集图片\n",
    "dataiter = iter(trainloader)\n",
    "print(dataiter)\n",
    "images, labels = next(dataiter)\n",
    "print(images,labels)\n",
    "# 展示图片\n",
    "imshow(torchvision.utils.make_grid(images))\n",
    "# 打印图片类别标签\n",
    "print(' '.join('%5s' % classes[labels[j]] for j in range(4)))"
   ]
  },
  {
   "cell_type": "code",
   "execution_count": 28,
   "id": "541b8e5a-39f3-47e5-ba86-9da7e57ff8c3",
   "metadata": {},
   "outputs": [],
   "source": [
    "import torch.nn as nn\n",
    "import torch.nn.functional as F\n",
    "\n",
    "\n",
    "class Net(nn.Module):\n",
    "    def __init__(self):\n",
    "        super(Net, self).__init__()\n",
    "        self.conv1 = nn.Conv2d(3, 6, 5)\n",
    "        self.pool = nn.MaxPool2d(2, 2)\n",
    "        self.conv2 = nn.Conv2d(6, 16, 5)\n",
    "        self.fc1 = nn.Linear(16 * 5 * 5, 120)\n",
    "        self.fc2 = nn.Linear(120, 84)\n",
    "        self.fc3 = nn.Linear(84, 10)\n",
    "\n",
    "    def forward(self, x):\n",
    "        x = self.pool(F.relu(self.conv1(x)))\n",
    "        x = self.pool(F.relu(self.conv2(x)))\n",
    "        x = x.view(-1, 16 * 5 * 5)\n",
    "        x = F.relu(self.fc1(x))\n",
    "        x = F.relu(self.fc2(x))\n",
    "        x = self.fc3(x)\n",
    "        return x\n",
    "\n",
    "\n",
    "net = Net()\n",
    "\n"
   ]
  },
  {
   "cell_type": "code",
   "execution_count": 35,
   "id": "0c71c046-705b-4fb3-bb85-28f37d6dd2c0",
   "metadata": {},
   "outputs": [],
   "source": [
    "import torch.optim as optim\n",
    "\n",
    "criterion = nn.CrossEntropyLoss()\n",
    "optimizer = optim.SGD(net.parameters(), lr=0.001, momentum=0.9)"
   ]
  },
  {
   "cell_type": "code",
   "execution_count": 38,
   "id": "32b35b23-39af-4b27-ab44-4b9d73734464",
   "metadata": {},
   "outputs": [
    {
     "name": "stdout",
     "output_type": "stream",
     "text": [
      "<torch.utils.data.dataloader.DataLoader object at 0x000001FC51AB3040>\n",
      "[1,  2000] loss: 1.601\n",
      "[1,  4000] loss: 1.522\n",
      "[1,  6000] loss: 1.488\n",
      "[1,  8000] loss: 1.450\n",
      "[1, 10000] loss: 1.406\n",
      "[1, 12000] loss: 1.410\n",
      "[2,  2000] loss: 1.322\n",
      "[2,  4000] loss: 1.306\n",
      "[2,  6000] loss: 1.282\n",
      "[2,  8000] loss: 1.263\n",
      "[2, 10000] loss: 1.250\n",
      "[2, 12000] loss: 1.234\n",
      "Finished Training! Total cost time:  108.47637271881104\n"
     ]
    }
   ],
   "source": [
    "import time\n",
    "start = time.time()\n",
    "print(trainloader)\n",
    "for epoch in range(2):\n",
    "\n",
    "    running_loss = 0.0\n",
    "    for i, data in enumerate(trainloader, 0):\n",
    "        # 获取输入数据\n",
    "        inputs, labels = data\n",
    "        #print(inputs)\n",
    "        #print(labels)\n",
    "        # 清空梯度缓存\n",
    "        optimizer.zero_grad()\n",
    "\n",
    "        outputs = net(inputs)\n",
    "        #print(outputs)\n",
    "        loss = criterion(outputs, labels)\n",
    "        loss.backward()\n",
    "        optimizer.step()\n",
    "\n",
    "        # 打印统计信息\n",
    "        running_loss += loss.item()\n",
    "        if i % 2000 == 1999:\n",
    "            # 每 2000 次迭代打印一次信息\n",
    "            print('[%d, %5d] loss: %.3f' % (epoch + 1, i+1, running_loss / 2000))\n",
    "            running_loss = 0.0\n",
    "print('Finished Training! Total cost time: ', time.time()-start)"
   ]
  },
  {
   "cell_type": "code",
   "execution_count": 43,
   "id": "af5471b3-88dd-4dd2-ba6b-396f428207a8",
   "metadata": {},
   "outputs": [
    {
     "data": {
      "image/png": "[encoded data removed]",
      "text/plain": [
       "<Figure size 640x480 with 1 Axes>"
      ]
     },
     "metadata": {},
     "output_type": "display_data"
    },
    {
     "name": "stdout",
     "output_type": "stream",
     "text": [
      "GroundTruth:    cat  ship  ship plane\n"
     ]
    }
   ],
   "source": [
    "# 测试\n",
    "dataiter = iter(testloader)\n",
    "images, labels = next(dataiter)\n",
    "\n",
    "# 打印图片\n",
    "imshow(torchvision.utils.make_grid(images))\n",
    "print('GroundTruth: ', ' '.join('%5s' % classes[labels[j]] for j in range(4)))"
   ]
  },
  {
   "cell_type": "code",
   "execution_count": 44,
   "id": "cc078f36-e74d-4722-81e8-38ec4313e60b",
   "metadata": {},
   "outputs": [
    {
     "name": "stdout",
     "output_type": "stream",
     "text": [
      "Predicted:    cat  ship  ship plane\n"
     ]
    }
   ],
   "source": [
    "# 网络输出\n",
    "outputs = net(images)\n",
    "\n",
    "# 预测结果\n",
    "_, predicted = torch.max(outputs, 1)\n",
    "print('Predicted: ', ' '.join('%5s' % classes[predicted[j]] for j in range(4)))"
   ]
  },
  {
   "cell_type": "code",
   "execution_count": 45,
   "id": "ef09b2df-8b4c-4034-9d4c-eb6473f271df",
   "metadata": {},
   "outputs": [
    {
     "name": "stdout",
     "output_type": "stream",
     "text": [
      "Accuracy of the network on the 10000 test images: 57 %\n"
     ]
    }
   ],
   "source": [
    "correct = 0\n",
    "total = 0\n",
    "with torch.no_grad():\n",
    "    for data in testloader:\n",
    "        images, labels = data\n",
    "        outputs = net(images)\n",
    "        _, predicted = torch.max(outputs.data, 1)\n",
    "        total += labels.size(0)\n",
    "        correct += (predicted == labels).sum().item()\n",
    "\n",
    "print('Accuracy of the network on the 10000 test images: %d %%' % (100 * correct / total))"
   ]
  },
  {
   "cell_type": "code",
   "execution_count": 46,
   "id": "079378d2-3233-44ac-8a3c-506dafe53522",
   "metadata": {},
   "outputs": [
    {
     "name": "stdout",
     "output_type": "stream",
     "text": [
      "Accuracy of plane : 59 %\n",
      "Accuracy of   car : 69 %\n",
      "Accuracy of  bird : 30 %\n",
      "Accuracy of   cat : 18 %\n",
      "Accuracy of  deer : 50 %\n",
      "Accuracy of   dog : 64 %\n",
      "Accuracy of  frog : 73 %\n",
      "Accuracy of horse : 66 %\n",
      "Accuracy of  ship : 74 %\n",
      "Accuracy of truck : 67 %\n"
     ]
    }
   ],
   "source": [
    "class_correct = list(0. for i in range(10))\n",
    "class_total = list(0. for i in range(10))\n",
    "with torch.no_grad():\n",
    "    for data in testloader:\n",
    "        images, labels = data\n",
    "        outputs = net(images)\n",
    "        _, predicted = torch.max(outputs, 1)\n",
    "        c = (predicted == labels).squeeze()\n",
    "        for i in range(4):\n",
    "            label = labels[i]\n",
    "            class_correct[label] += c[i].item()\n",
    "            class_total[label] += 1\n",
    "\n",
    "\n",
    "for i in range(10):\n",
    "    print('Accuracy of %5s : %2d %%' % (classes[i], 100 * class_correct[i] / class_total[i]))"
   ]
  },
  {
   "cell_type": "code",
   "execution_count": null,
   "id": "0beee67f-b18c-49a6-9b4c-5963c5c77e59",
   "metadata": {},
   "outputs": [],
   "source": []
  }
 ],
 "metadata": {
  "kernelspec": {
   "display_name": "Python 3 (ipykernel)",
   "language": "python",
   "name": "python3"
  },
  "language_info": {
   "codemirror_mode": {
    "name": "ipython",
    "version": 3
   },
   "file_extension": ".py",
   "mimetype": "text/x-python",
   "name": "python",
   "nbconvert_exporter": "python",
   "pygments_lexer": "ipython3",
   "version": "3.10.6"
  }
 },
 "nbformat": 4,
 "nbformat_minor": 5
}
